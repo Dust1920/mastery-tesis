{
 "cells": [
  {
   "cell_type": "markdown",
   "metadata": {},
   "source": [
    "# Tesis de Maestría.\n",
    "\n",
    "El objetivo de esta libreta será ir avanzando por la evolución del siguiente modelo.\n",
    "\n",
    "\\begin{align*}\n",
    "\\partial_{t}\\left(\\omega\\right) + \\dfrac{\\omega}{\\tau_{w}}& = b(t, z)\\\\\n",
    "\\partial_{t}\\left(\\theta\\right) + \\partial_{z}\\left(\\omega\\theta\\right) & =\\dfrac{L}{c_{p}}\\left(C_{d}-E_{v}\\right)\\\\\n",
    "\\partial_{t}\\left(q_{v}\\right) + \\partial_{z}\\left(\\omega q_{v}\\right) & =-\\left(C_{d}-E_{v}\\right)\\\\\n",
    "\\partial_{t}\\left(q_{r}\\right)+\\partial_{z}\\left(\\left[\\omega-V_{T}\\right]q_{r}\\right) & =\\left(C_{d}-E_{v}\\right)\\\\\n",
    "\\partial_{t}\\left(q_{n}\\right)+\\partial_{z}\\left(\\left[\\omega-V_{TN}\\right]q_{n}\\right) & =0\n",
    "\\end{align*}\n",
    "\n",
    "Para ello, vamos a irlo explorando por casos. \n",
    "\n",
    "## Primer Modelo. (Lado Derecho Nulo)\n",
    "Esto quiere decir, \n",
    "\n",
    "\\begin{align*}\n",
    "\\partial_{t}\\left(\\omega\\right)+\\dfrac{\\omega}{\\tau_{w}} & =b\\left(t, z\\right)\\\\\n",
    "\\partial_{t}\\left(\\theta\\right)+\\partial_{z}\\left(\\omega\\theta\\right) & =0\\\\\n",
    "\\partial_{t}\\left(q_{v}\\right)+\\partial_{z}\\left(\\omega q_{v}\\right) & =0\\\\\n",
    "\\partial_{t}\\left(q_{r}\\right)+\\partial_{z}\\left(\\left[\\omega-V_{T}\\right]q_{r}\\right) & =0\\\\\n",
    "\\partial_{t}\\left(q_{n}\\right)+\\partial_{z}\\left(\\left[\\omega-V_{TN}\\right]q_{n}\\right) & =0\n",
    "\\end{align*}\n",
    "\n",
    "Así, ya comenzamos con el desarrollo por etapas. \n",
    "### Etapa 1: Velocidad constante.\n",
    "Supondremos en esta etapa que $\\omega(t, z) = \\omega_0,\\forall (t, z)\\in\\mathbb{R}^2$. Entonces podemos prescindir de la primera ecuación.\n",
    "\n",
    "\\begin{align*}\n",
    "\\partial_{t}\\left(\\theta\\right)+\\partial_{z}\\left(\\omega\\theta\\right) & =0\\\\\n",
    "\\partial_{t}\\left(q_{v}\\right)+\\partial_{z}\\left(\\omega q_{v}\\right) & =0\\\\\n",
    "\\partial_{t}\\left(q_{r}\\right)+\\partial_{z}\\left(\\left[\\omega-V_{T}\\right]q_{r}\\right) & =0\\\\\n",
    "\\partial_{t}\\left(q_{n}\\right)+\\partial_{z}\\left(\\left[\\omega-V_{TN}\\right]q_{n}\\right) & =0\n",
    "\\end{align*}"
   ]
  },
  {
   "cell_type": "code",
   "execution_count": null,
   "metadata": {},
   "outputs": [],
   "source": []
  },
  {
   "cell_type": "code",
   "execution_count": null,
   "metadata": {},
   "outputs": [],
   "source": []
  }
 ],
 "metadata": {
  "language_info": {
   "name": "python"
  }
 },
 "nbformat": 4,
 "nbformat_minor": 2
}
